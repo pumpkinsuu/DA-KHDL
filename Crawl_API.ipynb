{
 "cells": [
  {
   "cell_type": "markdown",
   "metadata": {},
   "source": [
    "# Crawl API"
   ]
  },
  {
   "cell_type": "code",
   "execution_count": 1,
   "metadata": {
    "ExecuteTime": {
     "end_time": "2020-12-29T07:35:48.950009Z",
     "start_time": "2020-12-29T07:35:48.811439Z"
    }
   },
   "outputs": [],
   "source": [
    "import requests\n",
    "from calendar import monthrange\n",
    "import datetime as dt\n",
    "import time\n",
    "import csv\n",
    "import os"
   ]
  },
  {
   "cell_type": "markdown",
   "metadata": {},
   "source": [
    "* Sử dụng api của https://api.weather.com\n",
    "* Dữ liệu được lấy trong 10 năm từ 2010 đến 2020.\n",
    "* Dữ liệu được lấy từ trạm thời tiết của sân bay Tân Sơn Nhất(VVTS). "
   ]
  },
  {
   "cell_type": "code",
   "execution_count": 2,
   "metadata": {
    "ExecuteTime": {
     "end_time": "2020-12-29T07:35:48.965219Z",
     "start_time": "2020-12-29T07:35:48.952012Z"
    }
   },
   "outputs": [],
   "source": [
    "if not os.path.isdir('data'):\n",
    "    os.mkdir('data')\n",
    "\n",
    "cur = dt.datetime(2010, 1, 1)\n",
    "end = dt.datetime(2020, 1, 1)\n",
    "\n",
    "location = 'VVTS:9:VN'"
   ]
  },
  {
   "cell_type": "markdown",
   "metadata": {},
   "source": [
    "* Sử dụng public api key lấy từ https://www.wunderground.com thông qua crawl html."
   ]
  },
  {
   "cell_type": "code",
   "execution_count": 3,
   "metadata": {
    "ExecuteTime": {
     "end_time": "2020-12-29T07:35:48.980581Z",
     "start_time": "2020-12-29T07:35:48.967195Z"
    }
   },
   "outputs": [],
   "source": [
    "# Lấy api key\n",
    "def get_api_key():\n",
    "    r = requests.get('https://www.wunderground.com/')\n",
    "    text = r.text\n",
    "    text = text[text.find('apiKey=') + len('apiKey='):]\n",
    "    text = text[:text.find('&')]\n",
    "    return text\n",
    "\n",
    "\n",
    "def save(path, data):\n",
    "    with open(path, 'w', newline='') as csvfile:\n",
    "        fieldnames = list(data[0].keys())\n",
    "        writer = csv.DictWriter(csvfile, fieldnames=fieldnames)\n",
    "\n",
    "        writer.writeheader()\n",
    "        writer.writerows(data)\n",
    "\n",
    "\n",
    "# Tính ngày cuối cùng của tháng\n",
    "def end_date(date):\n",
    "    day = monthrange(month=date.month, year=date.year)[1]\n",
    "    return date.replace(day=day)\n",
    "\n",
    "\n",
    "# Thử lại nếu bị timeout\n",
    "def retry(url):\n",
    "    r = requests.get(url)\n",
    "    \n",
    "    while r.status_code != 200:\n",
    "        time.sleep(1)\n",
    "        r = requests.get(url)\n",
    "        print('timeout')\n",
    "        \n",
    "    return r\n",
    "\n",
    "\n",
    "# Lấy dữ liệu từ api\n",
    "def get_data(startDate, endDate):\n",
    "    url = f'https://api.weather.com/v1/location/'\\\n",
    "            f'{location}/observations/historical.json?units=m&'\\\n",
    "            f'apiKey={api_key}&startDate={startDate}&endDate={endDate}'\n",
    "        \n",
    "    r = retry(url)\n",
    "    data = r.json()\n",
    "    \n",
    "    if 'observations' in data:\n",
    "        return data['observations']\n",
    "    \n",
    "    return []"
   ]
  },
  {
   "cell_type": "code",
   "execution_count": 4,
   "metadata": {
    "ExecuteTime": {
     "end_time": "2020-12-29T07:37:49.201422Z",
     "start_time": "2020-12-29T07:35:48.982562Z"
    },
    "scrolled": false
   },
   "outputs": [
    {
     "name": "stdout",
     "output_type": "stream",
     "text": [
      "API key: 6532d6454b8aa370768e63d6ba5a832e\n",
      "Total: 171694\n",
      "Elapsed Time: 00h 01m 55s\n"
     ]
    }
   ],
   "source": [
    "start = time.time()\n",
    "api_key = get_api_key()\n",
    "print(f'API key: {api_key}')\n",
    "\n",
    "data = []\n",
    "# Lấy từng tháng\n",
    "while cur != end:\n",
    "    startDate = cur.strftime(\"%Y%m%d\")\n",
    "    endDate = end_date(cur).strftime(\"%Y%m%d\")\n",
    "\n",
    "\n",
    "    data.extend(get_data(startDate, endDate))\n",
    "    time.sleep(0.5)\n",
    "\n",
    "    if cur.month < 12:\n",
    "        cur = dt.datetime(cur.year, cur.month + 1, 1)\n",
    "    else:\n",
    "        cur = dt.datetime(cur.year + 1, 1, 1)\n",
    "\n",
    "print(f'Total: {len(data)}')\n",
    "print(f'Elapsed Time: {time.strftime(\"%Hh %Mm %Ss\", time.gmtime(time.time() - start))}')\n",
    "save(f'data/data.csv', data)"
   ]
  },
  {
   "cell_type": "code",
   "execution_count": null,
   "metadata": {},
   "outputs": [],
   "source": []
  }
 ],
 "metadata": {
  "kernelspec": {
   "display_name": "Python 3",
   "language": "python",
   "name": "python3"
  },
  "language_info": {
   "codemirror_mode": {
    "name": "ipython",
    "version": 3
   },
   "file_extension": ".py",
   "mimetype": "text/x-python",
   "name": "python",
   "nbconvert_exporter": "python",
   "pygments_lexer": "ipython3",
   "version": "3.8.5"
  }
 },
 "nbformat": 4,
 "nbformat_minor": 4
}
