{
 "cells": [
  {
   "cell_type": "markdown",
   "metadata": {},
   "source": [
    "# Tiền xử lý"
   ]
  },
  {
   "cell_type": "code",
   "execution_count": 7,
   "metadata": {
    "ExecuteTime": {
     "end_time": "2020-12-30T16:21:20.954485Z",
     "start_time": "2020-12-30T16:21:20.942507Z"
    }
   },
   "outputs": [],
   "source": [
    "import pandas as pd\n",
    "import datetime as dt\n",
    "import os\n",
    "import numpy as np"
   ]
  },
  {
   "cell_type": "markdown",
   "metadata": {},
   "source": [
    "* Sau khi xử lý ở mỗi hàng của dữ liệu sẽ bao gồm 3 ngày.  \n",
    "* Dữ liệu 2 ngày đầu sẽ được dùng làm input để dự báo ngày tiếp theo."
   ]
  },
  {
   "cell_type": "code",
   "execution_count": 8,
   "metadata": {
    "ExecuteTime": {
     "end_time": "2020-12-30T16:21:20.984610Z",
     "start_time": "2020-12-30T16:21:20.957468Z"
    }
   },
   "outputs": [],
   "source": [
    "# Gom dữ liệu, 3 ngày liên tiếp là 1 hàng, 2 ngày đầu có đủ còn ngày cuối cùng chỉ có cột cần dự đoán.\n",
    "def get_dataset(df):\n",
    "    data = []\n",
    "    n = df.shape[0]\n",
    "    \n",
    "    for i in range(n - 2):\n",
    "        # Kiểm tra xem 2 ngày tiếp có tồn tại không.\n",
    "        if df.iloc[i]['date'] + dt.timedelta(days=1) != df.iloc[i + 1]['date']:\n",
    "            continue\n",
    "        if df.iloc[i]['date'] + dt.timedelta(days=2) != df.iloc[i + 2]['date']:\n",
    "            continue\n",
    "        \n",
    "        x = {}\n",
    "        x['temp1'] = df.iloc[i]['temp']\n",
    "        x['temp2'] = df.iloc[i + 1]['temp']\n",
    "        x['dewPt1'] = df.iloc[i]['dewPt']\n",
    "        x['dewPt2'] = df.iloc[i + 1]['dewPt']\n",
    "        x['press1'] = df.iloc[i]['pressure']\n",
    "        x['press2'] = df.iloc[i + 1]['pressure']\n",
    "        x['humid1'] = df.iloc[i]['rh']\n",
    "        x['humid2'] = df.iloc[i + 1]['rh']\n",
    "        x['wdir1'] = df.iloc[i]['wdir']\n",
    "        x['wdir2'] = df.iloc[i + 1]['wdir']\n",
    "        x['wspeed1'] = df.iloc[i]['wspd']\n",
    "        x['wspeed2'] = df.iloc[i + 1]['wspd']\n",
    "        \n",
    "        x['temp_min1'] = df.iloc[i]['temp_min']\n",
    "        x['temp_min2'] = df.iloc[i + 1]['temp_min']\n",
    "        x['dewPt_min1'] = df.iloc[i]['dewPt_min']\n",
    "        x['dewPt_min2'] = df.iloc[i + 1]['dewPt_min']\n",
    "        x['press_min1'] = df.iloc[i]['pressure_min']\n",
    "        x['press_min2'] = df.iloc[i + 1]['pressure_min']\n",
    "        x['humid_min1'] = df.iloc[i]['rh_min']\n",
    "        x['humid_min2'] = df.iloc[i + 1]['rh_min']\n",
    "        x['wdir_min1'] = df.iloc[i]['wdir_min']\n",
    "        x['wdir_min2'] = df.iloc[i + 1]['wdir_min']\n",
    "        x['wspeed_min1'] = df.iloc[i]['wspd_min']\n",
    "        x['wspeed_min2'] = df.iloc[i + 1]['wspd_min']\n",
    "        \n",
    "        x['temp_max1'] = df.iloc[i]['temp_max']\n",
    "        x['temp_max2'] = df.iloc[i + 1]['temp_max']\n",
    "        x['dewPt_max1'] = df.iloc[i]['dewPt_max']\n",
    "        x['dewPt_max2'] = df.iloc[i + 1]['dewPt_max']\n",
    "        x['press_max1'] = df.iloc[i]['pressure_max']\n",
    "        x['press_max2'] = df.iloc[i + 1]['pressure_max']\n",
    "        x['humid_max1'] = df.iloc[i]['rh_max']\n",
    "        x['humid_max2'] = df.iloc[i + 1]['rh_max']\n",
    "        x['wdir_max1'] = df.iloc[i]['wdir_max']\n",
    "        x['wdir_max2'] = df.iloc[i + 1]['wdir_max']\n",
    "        x['wspeed_max1'] = df.iloc[i]['wspd_max']\n",
    "        x['wspeed_max2'] = df.iloc[i + 1]['wspd_max']\n",
    "        \n",
    "        x['rain1'] = df.iloc[i]['rain']\n",
    "        x['rain2'] = df.iloc[i + 1]['rain']\n",
    "        x['is_rain1'] = df.iloc[i]['is_rain']\n",
    "        x['is_rain2'] = df.iloc[i + 1]['is_rain']\n",
    "        \n",
    "        x['y_temp'] = df.iloc[i + 2]['temp']\n",
    "        x['y_temp_min'] = df.iloc[i + 2]['temp_min']\n",
    "        x['y_temp_max'] = df.iloc[i + 2]['temp_max']\n",
    "        x['y_rain'] = df.iloc[i + 2]['rain']\n",
    "        x['y_is_rain'] = df.iloc[i + 2]['is_rain']\n",
    "        data.append(x)\n",
    "\n",
    "    return data"
   ]
  },
  {
   "cell_type": "markdown",
   "metadata": {},
   "source": [
    "* Cột thời tiết được cho là có mưa nếu chứa 1 trong những từ khóa: ['Shower', 'Drizzle', 'Rain', 'T-Storm', 'Thunder']."
   ]
  },
  {
   "cell_type": "code",
   "execution_count": 9,
   "metadata": {
    "ExecuteTime": {
     "end_time": "2020-12-30T16:21:21.000389Z",
     "start_time": "2020-12-30T16:21:20.986554Z"
    }
   },
   "outputs": [],
   "source": [
    "def is_rain(weather):\n",
    "    for x in ['Shower', 'Drizzle', 'Rain', 'T-Storm', 'Thunder']:\n",
    "        if x in weather:\n",
    "            return 1\n",
    "    return 0"
   ]
  },
  {
   "cell_type": "markdown",
   "metadata": {},
   "source": [
    "* Do dữ liệu thời tiết liên tục, thay đổi khá chậm và dữ liệu thiếu rất ít nên các dữ liệu thiếu sẽ được thay thế bởi dữ liệu gần nó.  \n",
    "* Dữ liệu thuộc tính sẽ đưa về dạng số.  \n",
    "* Cột thời tiết sẽ được đổi thành có mưa hoặc không thông qua hàm 'is_rain(weather)'.  \n",
    "* Các hàng dữ liệu sẽ được gom lại theo ngày và lấy max, mean, min. Riêng với cột thời tiết sẽ tính là 1 nếu có 1 lần trong ngày mưa và cột 'rain' là tỉ lệ mưa trong 1 ngày."
   ]
  },
  {
   "cell_type": "code",
   "execution_count": 10,
   "metadata": {
    "ExecuteTime": {
     "end_time": "2020-12-30T16:21:21.016381Z",
     "start_time": "2020-12-30T16:21:21.003371Z"
    }
   },
   "outputs": [],
   "source": [
    "def preprocess(df):\n",
    "    # Chọn các cột cần lấy\n",
    "    df = df[['valid_time_gmt', 'temp', 'dewPt', 'pressure', 'rh', 'wx_phrase','wdir_cardinal', 'wspd']]\n",
    "    # Lấp dữ liệu thiếu\n",
    "    df = df.replace(0, np.nan)\n",
    "    df = df.ffill()\n",
    "    df = df.bfill()\n",
    "    \n",
    "    # Đổi hướng gió thành số\n",
    "    df['wdir_cardinal'] = df['wdir_cardinal'].astype('category').cat.codes\n",
    "    # Đổi thời tiết thành có mưa hay không(1 là có)\n",
    "    df['wx_phrase'] = df['wx_phrase'].apply(lambda x: is_rain(x))\n",
    "    # Đổi múi giờ về Việt Nam\n",
    "    df['valid_time_gmt'] = pd.to_datetime(df['valid_time_gmt'], unit='s').apply(\n",
    "        lambda x: x.tz_localize('GMT').tz_convert('Asia/Ho_Chi_Minh') \n",
    "    )\n",
    "    df['date'] = df['valid_time_gmt'].dt.date\n",
    "    \n",
    "    # Gom dữ liệu theo ngày, lấy max, min, mean\n",
    "    group = df.groupby('date')\n",
    "    df = pd.DataFrame()\n",
    "    df['temp'] = group['temp'].mean().round(1)\n",
    "    df['temp_min'] = group['temp'].min().round(1)\n",
    "    df['temp_max'] = group['temp'].max().round(1)\n",
    "    df['dewPt'] = group['dewPt'].mean().round(1)\n",
    "    df['dewPt_min'] = group['dewPt'].min().round(1)\n",
    "    df['dewPt_max'] = group['dewPt'].max().round(1)\n",
    "    df['pressure'] = group['pressure'].mean().round(2)\n",
    "    df['pressure_min'] = group['pressure'].min().round(2)\n",
    "    df['pressure_max'] = group['pressure'].max().round(2)\n",
    "    df['rh'] = group['rh'].mean().round(1)\n",
    "    df['rh_min'] = group['rh'].min().round(1)\n",
    "    df['rh_max'] = group['rh'].max().round(1)\n",
    "    df['wdir'] = group['wdir_cardinal'].mean().round(0)\n",
    "    df['wdir_min'] = group['wdir_cardinal'].min().round(0)\n",
    "    df['wdir_max'] = group['wdir_cardinal'].max().round(0)\n",
    "    df['wspd'] = group['wspd'].mean().round(0)\n",
    "    df['wspd_min'] = group['wspd'].min().round(0)\n",
    "    df['wspd_max'] = group['wspd'].max().round(0)\n",
    "    # Tỉ lệ mưa\n",
    "    df['rain'] = group['wx_phrase'].mean().round(2)\n",
    "    # Trong ngày có mưa không?\n",
    "    df['is_rain'] = group['wx_phrase'].max()\n",
    "    return df.reset_index()"
   ]
  },
  {
   "cell_type": "code",
   "execution_count": null,
   "metadata": {
    "ExecuteTime": {
     "start_time": "2020-12-30T16:20:29.191Z"
    }
   },
   "outputs": [],
   "source": [
    "if not os.path.isdir('c_data'):\n",
    "    os.mkdir('c_data')\n",
    "    \n",
    "files = os.listdir('data')\n",
    "\n",
    "df = pd.read_csv(f'data/data.csv')\n",
    "    \n",
    "df = preprocess(df)\n",
    "\n",
    "dataset = get_dataset(df)\n",
    "df = pd.DataFrame(dataset)\n",
    "df.to_csv(f'c_data/data.csv', index=False)"
   ]
  },
  {
   "cell_type": "markdown",
   "metadata": {},
   "source": [
    "* Dữ liệu cuối cùng để đưa vào model"
   ]
  },
  {
   "cell_type": "code",
   "execution_count": null,
   "metadata": {
    "ExecuteTime": {
     "start_time": "2020-12-30T16:20:29.193Z"
    }
   },
   "outputs": [],
   "source": [
    "df"
   ]
  },
  {
   "cell_type": "code",
   "execution_count": null,
   "metadata": {},
   "outputs": [],
   "source": []
  }
 ],
 "metadata": {
  "kernelspec": {
   "display_name": "Python 3",
   "language": "python",
   "name": "python3"
  },
  "language_info": {
   "codemirror_mode": {
    "name": "ipython",
    "version": 3
   },
   "file_extension": ".py",
   "mimetype": "text/x-python",
   "name": "python",
   "nbconvert_exporter": "python",
   "pygments_lexer": "ipython3",
   "version": "3.8.5"
  }
 },
 "nbformat": 4,
 "nbformat_minor": 4
}
